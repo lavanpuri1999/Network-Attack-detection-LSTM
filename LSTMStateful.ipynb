{
 "cells": [
  {
   "cell_type": "code",
   "execution_count": 1,
   "metadata": {},
   "outputs": [
    {
     "name": "stderr",
     "output_type": "stream",
     "text": [
      "Using TensorFlow backend.\n"
     ]
    }
   ],
   "source": [
    "from keras.models import Sequential\n",
    "from keras.layers import LSTM,Dropout\n",
    "from keras.layers import Dense\n",
    "import pandas as pd\n",
    "import numpy as np\n",
    "from sklearn.model_selection import train_test_split\n",
    "from sklearn import decomposition\n",
    "from sklearn.feature_selection import SelectKBest\n",
    "from sklearn.feature_selection import chi2\n",
    "from sklearn.pipeline import FeatureUnion\n",
    "from sklearn.model_selection import StratifiedKFold\n",
    "import matplotlib.pyplot as plt\n",
    "import scikitplot as skplt\n",
    "from sklearn.preprocessing import label_binarize\n",
    "from sklearn.metrics import roc_curve, auc\n",
    "from scipy import interp\n",
    "from itertools import cycle\n",
    "import time\n",
    "from keras import metrics\n",
    "from keras import optimizers\n",
    "from keras import initializers\n",
    "from keras.callbacks import ModelCheckpoint\n",
    "import pprint\n",
    "from keras.callbacks import Callback"
   ]
  },
  {
   "cell_type": "code",
   "execution_count": 2,
   "metadata": {
    "collapsed": true
   },
   "outputs": [],
   "source": [
    "kdd_dataset = pd.read_csv('KDD.preProcessed.csv')\n",
    "kdd_dataset.head()\n",
    "#kdd_dataset.dropna()\n",
    "np.random.seed(42)"
   ]
  },
  {
   "cell_type": "code",
   "execution_count": 3,
   "metadata": {
    "collapsed": true
   },
   "outputs": [],
   "source": [
    "columns = list(kdd_dataset)\n",
    "features = columns\n",
    "features.remove('label_DoS')\n",
    "features.remove('label_Normal')\n",
    "features.remove('label_Probe')\n",
    "features.remove('label_R2L')\n",
    "features.remove('label_U2R')"
   ]
  },
  {
   "cell_type": "code",
   "execution_count": 4,
   "metadata": {
    "collapsed": true
   },
   "outputs": [],
   "source": [
    "\n",
    "DoS = kdd_dataset.loc[kdd_dataset['label_DoS'] == 1]\n",
    "Normal = kdd_dataset.loc[kdd_dataset['label_Normal'] == 1]\n",
    "Probe = kdd_dataset.loc[kdd_dataset['label_Probe'] == 1]\n",
    "R2L = kdd_dataset.loc[kdd_dataset['label_R2L'] == 1]\n",
    "U2R = kdd_dataset.loc[kdd_dataset['label_U2R'] == 1]\n"
   ]
  },
  {
   "cell_type": "code",
   "execution_count": 5,
   "metadata": {},
   "outputs": [
    {
     "data": {
      "text/plain": [
       "'\\nDoS = DoS.sample(n=100000,random_state = 42)\\nNormal = Normal.sample(n=100000, random_state = 42)\\nProbe = Probe.sample(n=40000, random_state=42)\\nR2L = R2L.sample(n=1126, random_state=42)\\n'"
      ]
     },
     "execution_count": 5,
     "metadata": {},
     "output_type": "execute_result"
    }
   ],
   "source": [
    "DoS = DoS.sample(n=1000,random_state = 42)\n",
    "Normal = Normal.sample(n=1000, random_state = 42)\n",
    "Probe = Probe.sample(n=1000, random_state=42)\n",
    "R2L = R2L.sample(n=1126, random_state=42)\n",
    "'''\n",
    "DoS = DoS.sample(n=100000,random_state = 42)\n",
    "Normal = Normal.sample(n=100000, random_state = 42)\n",
    "Probe = Probe.sample(n=40000, random_state=42)\n",
    "R2L = R2L.sample(n=1126, random_state=42)\n",
    "'''"
   ]
  },
  {
   "cell_type": "code",
   "execution_count": 6,
   "metadata": {
    "collapsed": true
   },
   "outputs": [],
   "source": [
    "#U2R = U2R.append([U2R]*500,ignore_index=True)\n",
    "#R2L = R2L.append([R2L]*100,ignore_index=True)\n",
    "#DoS"
   ]
  },
  {
   "cell_type": "code",
   "execution_count": 7,
   "metadata": {
    "collapsed": true
   },
   "outputs": [],
   "source": [
    "reduced_dataset = pd.concat([DoS,Normal,Probe,R2L,U2R])\n",
    "kdd_dataset = reduced_dataset.sample(n=len(reduced_dataset), random_state = 42)"
   ]
  },
  {
   "cell_type": "code",
   "execution_count": 8,
   "metadata": {},
   "outputs": [
    {
     "name": "stdout",
     "output_type": "stream",
     "text": [
      "number of datapoints = 4148 and number of features = 53\n"
     ]
    }
   ],
   "source": [
    "\n",
    "x = kdd_dataset[features].values\n",
    "y = kdd_dataset.iloc[:,53:].values\n",
    "print(\"number of datapoints = {} and number of features = {}\".format(len(x),len(x[0])))"
   ]
  },
  {
   "cell_type": "code",
   "execution_count": 9,
   "metadata": {},
   "outputs": [
    {
     "name": "stdout",
     "output_type": "stream",
     "text": [
      "Counter({(0.0, 0.0, 0.0, 1.0, 0.0): 1126, (0.0, 0.0, 1.0, 0.0, 0.0): 1000, (0.0, 1.0, 0.0, 0.0, 0.0): 1000, (1.0, 0.0, 0.0, 0.0, 0.0): 1000, (0.0, 0.0, 0.0, 0.0, 1.0): 22})\n"
     ]
    }
   ],
   "source": [
    "# Counting occurrences\n",
    "from collections import Counter\n",
    "print(Counter([tuple(x) for x in y]))"
   ]
  },
  {
   "cell_type": "code",
   "execution_count": 10,
   "metadata": {},
   "outputs": [
    {
     "name": "stdout",
     "output_type": "stream",
     "text": [
      "Shape before transformation - (4148, 53)\n",
      "Shape after transformation - (4148, 10)\n"
     ]
    }
   ],
   "source": [
    "#PCA\n",
    "\n",
    "print(\"Shape before transformation - {}\".format(np.asarray(x).shape))\n",
    "pca = decomposition.PCA(n_components=10)\n",
    "pca.fit(x)\n",
    "x_pca = pca.transform(x)\n",
    "print(\"Shape after transformation - {}\".format(x_pca.shape))\n",
    "x_pca = x_pca.tolist()\n",
    "\n"
   ]
  },
  {
   "cell_type": "code",
   "execution_count": 11,
   "metadata": {
    "collapsed": true
   },
   "outputs": [],
   "source": [
    "from sklearn.model_selection import train_test_split\n",
    "X_tr, X_val, Y_tr, Y_val = train_test_split(x_pca, y,\n",
    "                                                    stratify=y, \n",
    "                                                    test_size=0.2,\n",
    "                                                    random_state=42)\n"
   ]
  },
  {
   "cell_type": "code",
   "execution_count": 12,
   "metadata": {
    "collapsed": true
   },
   "outputs": [],
   "source": [
    "X_train, X_test, Y_train, Y_test = train_test_split(X_tr, Y_tr,\n",
    "                                                    stratify=Y_tr, \n",
    "                                                    test_size=0.25,\n",
    "                                                    random_state=42)\n",
    "max_len = len(X_train)"
   ]
  },
  {
   "cell_type": "code",
   "execution_count": 13,
   "metadata": {
    "collapsed": true
   },
   "outputs": [],
   "source": [
    "def processTrainTestArrays(x,y):\n",
    "    x=np.asarray(x)\n",
    "    y=np.asarray(y)\n",
    "    \n",
    "    x = np.reshape(x, (x.shape[0], x.shape[1],1))\n",
    "    Y_temp = [[item]*10 for item in y]\n",
    "    y = np.reshape(np.asarray(Y_temp),(x.shape[0]*10,5))\n",
    "    #y = [[item]*10 for item in y]\n",
    "    \n",
    "    #y = [np.argmax(item) for item in y]\n",
    "    #y = np.reshape(y, (y.shape[0], 1))\n",
    "\n",
    "\n",
    "    return x,y"
   ]
  },
  {
   "cell_type": "code",
   "execution_count": 14,
   "metadata": {
    "collapsed": true
   },
   "outputs": [],
   "source": [
    "def onehotencode(y):\n",
    "    #from keras.utils.np_utils import to_categorical\n",
    "    #y_binary = to_categorical(y)\n",
    "    y = [int(item) for item in y]\n",
    "    targets = np.array(y).reshape(-1)\n",
    "    y_binary = np.eye(5)[targets]\n",
    "    \n",
    "    return y_binary"
   ]
  },
  {
   "cell_type": "code",
   "execution_count": 15,
   "metadata": {
    "collapsed": true
   },
   "outputs": [],
   "source": [
    "# define model\n",
    "#length = len(kdd_dataset)\n",
    "def create_model(X_train,Y_train, number_of_units):\n",
    "    Batch_size = 1\n",
    "    randomInit = initializers.RandomUniform(seed=42)\n",
    "    nadam = optimizers.Nadam(lr=0.002, beta_1=0.9, beta_2=0.999, epsilon=1e-08, schedule_decay=0.004)\n",
    "    \n",
    "    model = Sequential()\n",
    "    #model.add(LSTM(number_of_units, kernel_initializer = randomInit, bias_initializer = randomInit, stateful = True,\n",
    "    #               batch_input_shape=(Batch_size,X_train.shape[1], X_train.shape[2]),return_sequences=True))\n",
    "    model.add(LSTM(number_of_units, kernel_initializer = randomInit, bias_initializer = randomInit, stateful = True,\n",
    "                   batch_input_shape=(Batch_size,1,1),return_sequences=False))\n",
    "    \n",
    "    #model.add(Dropout(0.1))\n",
    "    #model.add(LSTM(number_of_units, kernel_initializer = randomInit, bias_initializer = randomInit, stateful = True,\n",
    "    #               batch_input_shape=(Batch_size,X_train.shape[1], X_train.shape[2]),return_sequences=True))\n",
    "    #model.add(Dropout(0.1))\n",
    "    #model.add(LSTM(number_of_units, kernel_initializer = randomInit, bias_initializer = randomInit, stateful = True,\n",
    "    #               batch_input_shape=(Batch_size,X_train.shape[1], X_train.shape[2])))\n",
    "    #model.add(Dropout(0.1))\n",
    "    model.add(Dense(Y_train.shape[1], activation='softmax'))\n",
    "    \n",
    "    nadam = optimizers.Nadam(lr=0.002, beta_1=0.9, beta_2=0.999, epsilon=1e-08, schedule_decay=0.004)\n",
    "    model.compile(loss='mean_squared_error', optimizer=nadam, metrics=['accuracy'])\n",
    "\n",
    "    print(model.summary())\n",
    "    return model"
   ]
  },
  {
   "cell_type": "code",
   "execution_count": 16,
   "metadata": {
    "collapsed": true
   },
   "outputs": [],
   "source": [
    "#model.summary()"
   ]
  },
  {
   "cell_type": "code",
   "execution_count": 17,
   "metadata": {
    "collapsed": true
   },
   "outputs": [],
   "source": [
    "def compute_metrics(predicted, Y_test):\n",
    "   \n",
    "    Y_classes = [np.argmax(item) for item in Y_test]\n",
    "    #print(Y_classes)\n",
    "    predicted_classes = [np.argmax(item) for item in predicted]\n",
    "    \n",
    "    predictions = np.array(predicted_classes)\n",
    "    Y_actual = np.array(Y_classes)\n",
    "   \n",
    "    y_actu = pd.Series(np.reshape(Y_actual,len(Y_actual)), name='Actual')\n",
    "    y_pred = pd.Series(np.reshape(predictions, len(predictions)), name='Predicted')\n",
    "    \n",
    "    y_act = pd.Categorical(y_actu, categories=[0,1,2,3,4])\n",
    "    y_pre = pd.Categorical(y_pred, categories=[0,1,2,3,4])\n",
    "    \n",
    "    #F1 score\n",
    "    from sklearn.metrics import f1_score\n",
    "    print(\"Average F1 score is {}\".format(f1_score(Y_classes, predicted_classes, average='weighted', labels = [0,1,2,3,4])))\n",
    "    \n",
    "    df_confusion = pd.crosstab(y_act, y_pre, rownames =['Actual'],colnames=['Predicted'])\n",
    "    print(\"Confusion matrix: \\n\", df_confusion)\n",
    "    #pprint.pprint(df_confusion)\n",
    "    predicted= np.array(predicted).tolist()\n",
    "    Y_test = np.array(Y_test).tolist()\n",
    "\n",
    "    n_classes = 5\n",
    "    print(\"n_classes is: \", n_classes)\n",
    "    Y_test= np.asarray(Y_test)\n",
    "    predicted = np.asarray(predicted)\n",
    "    \n",
    "    fpr = dict()\n",
    "    tpr = dict()\n",
    "    roc_auc = dict()\n",
    "    for i in range(n_classes):\n",
    "        fpr[i], tpr[i], _ = roc_curve(Y_test[:, i], predicted[:, i])\n",
    "        roc_auc[i] = auc(fpr[i], tpr[i])\n",
    "\n",
    "    # Compute micro-average ROC curve and ROC area\n",
    "    fpr[\"micro\"], tpr[\"micro\"], _ = roc_curve(Y_test.ravel(), predicted.ravel())\n",
    "    roc_auc[\"micro\"] = auc(fpr[\"micro\"], tpr[\"micro\"])\n",
    "    \n",
    "    lw = 2\n",
    "     #Compute macro-average ROC curve and ROC area\n",
    "    # first aggregate all false positive rates\n",
    "    all_fpr = np.unique(np.concatenate([fpr[i] for i in range(n_classes)]))\n",
    "\n",
    "    # Then interpolate all ROC curves at this points\n",
    "    mean_tpr = np.zeros_like(all_fpr)\n",
    "    for i in range(n_classes):\n",
    "        mean_tpr += interp(all_fpr, fpr[i], tpr[i])\n",
    "\n",
    "    # Finally average it and compute AUC\n",
    "    mean_tpr /= n_classes\n",
    "\n",
    "    fpr[\"macro\"] = all_fpr\n",
    "    tpr[\"macro\"] = mean_tpr\n",
    "    roc_auc[\"macro\"] = auc(fpr[\"macro\"], tpr[\"macro\"])\n",
    "\n",
    "    # Plot all ROC curves\n",
    "    plt.figure()\n",
    "    plt.plot(fpr[\"micro\"], tpr[\"micro\"],\n",
    "             label='micro-average ROC curve (area = {0:0.2f})'\n",
    "                   ''.format(roc_auc[\"micro\"]),\n",
    "             color='deeppink', linestyle=':', linewidth=4)\n",
    "\n",
    "    plt.plot(fpr[\"macro\"], tpr[\"macro\"],\n",
    "             label='macro-average ROC curve (area = {0:0.2f})'\n",
    "                   ''.format(roc_auc[\"macro\"]),\n",
    "             color='navy', linestyle=':', linewidth=4)\n",
    "\n",
    "    colors = cycle(['aqua', 'darkorange', 'cornflowerblue'])\n",
    "    for i, color in zip(range(n_classes), colors):\n",
    "        plt.plot(fpr[i], tpr[i], color=color, lw=lw,\n",
    "                 label='ROC curve of class {0} (area = {1:0.2f})'\n",
    "                 ''.format(i, roc_auc[i]))\n",
    "\n",
    "    plt.plot([0, 1], [0, 1], 'k--', lw=lw)\n",
    "    plt.xlim([0.0, 1.0])\n",
    "    plt.ylim([0.0, 1.05])\n",
    "    plt.xlabel('False Positive Rate')\n",
    "    plt.ylabel('True Positive Rate')\n",
    "    plt.legend(loc=\"lower right\")\n",
    "    plt.show()"
   ]
  },
  {
   "cell_type": "code",
   "execution_count": 18,
   "metadata": {
    "collapsed": true
   },
   "outputs": [],
   "source": [
    "#checkpoint save weights\n",
    "#Y_train\n",
    "\n",
    "hdf5FileName = \"bestWeightsLSTMStateful3L50.hdf5\"\n",
    "checkpoint = ModelCheckpoint(hdf5FileName,monitor='val_acc',verbose=1,save_best_only=True,mode='max',save_weights_only=True)"
   ]
  },
  {
   "cell_type": "code",
   "execution_count": 19,
   "metadata": {
    "collapsed": true
   },
   "outputs": [],
   "source": [
    "class ResetStatesCallback(Callback):\n",
    "    def __init__(self):\n",
    "        self.counter = 0\n",
    "\n",
    "    def on_batch_begin(self, batch, logs={}):\n",
    "        if self.counter % (max_len*10) == 0:\n",
    "            self.model.reset_states()\n",
    "            print(\"Model reset. \",self.counter)\n",
    "            #self.counter = 0\n",
    "        self.counter += 1\n",
    "        #print(self.counter)\n",
    "        "
   ]
  },
  {
   "cell_type": "code",
   "execution_count": 20,
   "metadata": {
    "scrolled": false
   },
   "outputs": [
    {
     "name": "stdout",
     "output_type": "stream",
     "text": [
      "_________________________________________________________________\n",
      "Layer (type)                 Output Shape              Param #   \n",
      "=================================================================\n",
      "lstm_1 (LSTM)                (1, 50)                   10400     \n",
      "_________________________________________________________________\n",
      "dense_1 (Dense)              (1, 5)                    255       \n",
      "=================================================================\n",
      "Total params: 10,655\n",
      "Trainable params: 10,655\n",
      "Non-trainable params: 0\n",
      "_________________________________________________________________\n",
      "None\n",
      "Train on 24880 samples, validate on 8300 samples\n",
      "Epoch 1/50\n",
      "Model reset.  0\n",
      "   19/24880 [..............................] - ETA: 14361s - loss: 0.1483 - acc: 0.5263   "
     ]
    },
    {
     "name": "stderr",
     "output_type": "stream",
     "text": [
      "/usr/local/lib/python3.5/dist-packages/keras/callbacks.py:97: UserWarning: Method on_batch_begin() is slow compared to the batch update (5.219173). Check your callbacks.\n",
      "  % delta_t_median)\n"
     ]
    },
    {
     "name": "stdout",
     "output_type": "stream",
     "text": [
      "24876/24880 [============================>.] - ETA: 0s - loss: 0.1343 - acc: 0.4340Epoch 00000: val_acc improved from -inf to 0.54747, saving model to bestWeightsLSTMStateful3L50.hdf5\n",
      "24880/24880 [==============================] - 262s - loss: 0.1343 - acc: 0.4340 - val_loss: 0.1098 - val_acc: 0.5475\n",
      "Epoch 2/50\n",
      "Model reset.  24880\n",
      "24875/24880 [============================>.] - ETA: 0s - loss: 0.1061 - acc: 0.5948Epoch 00001: val_acc improved from 0.54747 to 0.60096, saving model to bestWeightsLSTMStateful3L50.hdf5\n",
      "24880/24880 [==============================] - 248s - loss: 0.1061 - acc: 0.5949 - val_loss: 0.1006 - val_acc: 0.6010\n",
      "Epoch 3/50\n",
      "Model reset.  49760\n",
      "24875/24880 [============================>.] - ETA: 0s - loss: 0.0824 - acc: 0.6948Epoch 00002: val_acc improved from 0.60096 to 0.74181, saving model to bestWeightsLSTMStateful3L50.hdf5\n",
      "24880/24880 [==============================] - 248s - loss: 0.0824 - acc: 0.6948 - val_loss: 0.0704 - val_acc: 0.7418\n",
      "Epoch 4/50\n",
      "Model reset.  74640\n",
      "24878/24880 [============================>.] - ETA: 0s - loss: 0.0664 - acc: 0.7641Epoch 00003: val_acc improved from 0.74181 to 0.79422, saving model to bestWeightsLSTMStateful3L50.hdf5\n",
      "24880/24880 [==============================] - 247s - loss: 0.0664 - acc: 0.7641 - val_loss: 0.0601 - val_acc: 0.7942\n",
      "Epoch 5/50\n",
      "Model reset.  99520\n",
      "24876/24880 [============================>.] - ETA: 0s - loss: 0.0605 - acc: 0.7881Epoch 00004: val_acc improved from 0.79422 to 0.80277, saving model to bestWeightsLSTMStateful3L50.hdf5\n",
      "24880/24880 [==============================] - 247s - loss: 0.0605 - acc: 0.7881 - val_loss: 0.0561 - val_acc: 0.8028\n",
      "Epoch 6/50\n",
      "Model reset.  124400\n",
      "24874/24880 [============================>.] - ETA: 0s - loss: 0.0588 - acc: 0.7961Epoch 00005: val_acc did not improve\n",
      "24880/24880 [==============================] - 247s - loss: 0.0587 - acc: 0.7962 - val_loss: 0.0582 - val_acc: 0.7936\n",
      "Epoch 7/50\n",
      "Model reset.  149280\n",
      "24879/24880 [============================>.] - ETA: 0s - loss: 0.0574 - acc: 0.8002Epoch 00006: val_acc did not improve\n",
      "24880/24880 [==============================] - 245s - loss: 0.0574 - acc: 0.8002 - val_loss: 0.0576 - val_acc: 0.7973\n",
      "Epoch 8/50\n",
      "Model reset.  174160\n",
      "24874/24880 [============================>.] - ETA: 0s - loss: 0.0553 - acc: 0.8053Epoch 00007: val_acc improved from 0.80277 to 0.80831, saving model to bestWeightsLSTMStateful3L50.hdf5\n",
      "24880/24880 [==============================] - 245s - loss: 0.0553 - acc: 0.8054 - val_loss: 0.0547 - val_acc: 0.8083\n",
      "Epoch 9/50\n",
      "Model reset.  199040\n",
      "24878/24880 [============================>.] - ETA: 0s - loss: 0.0525 - acc: 0.8190Epoch 00008: val_acc improved from 0.80831 to 0.82325, saving model to bestWeightsLSTMStateful3L50.hdf5\n",
      "24880/24880 [==============================] - 246s - loss: 0.0525 - acc: 0.8190 - val_loss: 0.0502 - val_acc: 0.8233\n",
      "Epoch 10/50\n",
      "Model reset.  223920\n",
      "24879/24880 [============================>.] - ETA: 0s - loss: 0.0499 - acc: 0.8249Epoch 00009: val_acc improved from 0.82325 to 0.84482, saving model to bestWeightsLSTMStateful3L50.hdf5\n",
      "24880/24880 [==============================] - 245s - loss: 0.0499 - acc: 0.8249 - val_loss: 0.0457 - val_acc: 0.8448\n",
      "Epoch 11/50\n",
      "Model reset.  248800\n",
      "24878/24880 [============================>.] - ETA: 0s - loss: 0.0466 - acc: 0.8371Epoch 00010: val_acc did not improve\n",
      "24880/24880 [==============================] - 245s - loss: 0.0466 - acc: 0.8371 - val_loss: 0.0474 - val_acc: 0.8347\n",
      "Epoch 12/50\n",
      "Model reset.  273680\n",
      "24878/24880 [============================>.] - ETA: 0s - loss: 0.0466 - acc: 0.8393Epoch 00011: val_acc did not improve\n",
      "24880/24880 [==============================] - 245s - loss: 0.0466 - acc: 0.8393 - val_loss: 0.0469 - val_acc: 0.8355\n",
      "Epoch 13/50\n",
      "Model reset.  298560\n",
      "24874/24880 [============================>.] - ETA: 0s - loss: 0.0458 - acc: 0.8417Epoch 00012: val_acc improved from 0.84482 to 0.84639, saving model to bestWeightsLSTMStateful3L50.hdf5\n",
      "24880/24880 [==============================] - 246s - loss: 0.0458 - acc: 0.8417 - val_loss: 0.0460 - val_acc: 0.8464\n",
      "Epoch 14/50\n",
      "Model reset.  323440\n",
      "24878/24880 [============================>.] - ETA: 0s - loss: 0.0455 - acc: 0.8423Epoch 00013: val_acc did not improve\n",
      "24880/24880 [==============================] - 245s - loss: 0.0455 - acc: 0.8423 - val_loss: 0.0464 - val_acc: 0.8355\n",
      "Epoch 15/50\n",
      "Model reset.  348320\n",
      "24879/24880 [============================>.] - ETA: 0s - loss: 0.0459 - acc: 0.8426Epoch 00014: val_acc did not improve\n",
      "24880/24880 [==============================] - 244s - loss: 0.0459 - acc: 0.8426 - val_loss: 0.0478 - val_acc: 0.8331\n",
      "Epoch 16/50\n",
      "Model reset.  373200\n",
      "24874/24880 [============================>.] - ETA: 0s - loss: 0.0440 - acc: 0.8488Epoch 00015: val_acc did not improve\n",
      "24880/24880 [==============================] - 244s - loss: 0.0440 - acc: 0.8489 - val_loss: 0.0522 - val_acc: 0.8254\n",
      "Epoch 17/50\n",
      "Model reset.  398080\n",
      "24878/24880 [============================>.] - ETA: 0s - loss: 0.0435 - acc: 0.8512Epoch 00016: val_acc improved from 0.84639 to 0.85193, saving model to bestWeightsLSTMStateful3L50.hdf5\n",
      "24880/24880 [==============================] - 245s - loss: 0.0435 - acc: 0.8512 - val_loss: 0.0438 - val_acc: 0.8519\n",
      "Epoch 18/50\n",
      "Model reset.  422960\n",
      "24874/24880 [============================>.] - ETA: 0s - loss: 0.0432 - acc: 0.8516Epoch 00017: val_acc did not improve\n",
      "24880/24880 [==============================] - 244s - loss: 0.0432 - acc: 0.8516 - val_loss: 0.0496 - val_acc: 0.8300\n",
      "Epoch 19/50\n",
      "Model reset.  447840\n",
      "24879/24880 [============================>.] - ETA: 0s - loss: 0.0424 - acc: 0.8551Epoch 00018: val_acc did not improve\n",
      "24880/24880 [==============================] - 245s - loss: 0.0424 - acc: 0.8551 - val_loss: 0.0451 - val_acc: 0.8458\n",
      "Epoch 20/50\n",
      "Model reset.  472720\n",
      "24878/24880 [============================>.] - ETA: 0s - loss: 0.0416 - acc: 0.8573Epoch 00019: val_acc did not improve\n",
      "24880/24880 [==============================] - 244s - loss: 0.0416 - acc: 0.8574 - val_loss: 0.0458 - val_acc: 0.8458\n",
      "Epoch 21/50\n",
      "Model reset.  497600\n",
      "24874/24880 [============================>.] - ETA: 0s - loss: 0.0432 - acc: 0.8510Epoch 00020: val_acc did not improve\n",
      "24880/24880 [==============================] - 243s - loss: 0.0432 - acc: 0.8511 - val_loss: 0.0455 - val_acc: 0.8434\n",
      "Epoch 22/50\n",
      "Model reset.  522480\n",
      "24879/24880 [============================>.] - ETA: 0s - loss: 0.0427 - acc: 0.8547Epoch 00021: val_acc did not improve\n",
      "24880/24880 [==============================] - 244s - loss: 0.0427 - acc: 0.8547 - val_loss: 0.0466 - val_acc: 0.8400\n",
      "Epoch 23/50\n",
      "Model reset.  547360\n",
      "24877/24880 [============================>.] - ETA: 0s - loss: 0.0421 - acc: 0.8556Epoch 00022: val_acc did not improve\n",
      "24880/24880 [==============================] - 244s - loss: 0.0421 - acc: 0.8556 - val_loss: 0.0434 - val_acc: 0.8499\n",
      "Epoch 24/50\n",
      "Model reset.  572240\n",
      "24875/24880 [============================>.] - ETA: 0s - loss: 0.0428 - acc: 0.8518Epoch 00023: val_acc did not improve\n",
      "24880/24880 [==============================] - 243s - loss: 0.0428 - acc: 0.8518 - val_loss: 0.0442 - val_acc: 0.8466\n",
      "Epoch 25/50\n",
      "Model reset.  597120\n",
      "24877/24880 [============================>.] - ETA: 0s - loss: 0.0420 - acc: 0.8559Epoch 00024: val_acc improved from 0.85193 to 0.85530, saving model to bestWeightsLSTMStateful3L50.hdf5\n",
      "24880/24880 [==============================] - 244s - loss: 0.0420 - acc: 0.8559 - val_loss: 0.0428 - val_acc: 0.8553\n",
      "Epoch 26/50\n",
      "Model reset.  622000\n",
      "24875/24880 [============================>.] - ETA: 0s - loss: 0.0432 - acc: 0.8528Epoch 00025: val_acc did not improve\n",
      "24880/24880 [==============================] - 243s - loss: 0.0431 - acc: 0.8529 - val_loss: 0.0470 - val_acc: 0.8399\n",
      "Epoch 27/50\n",
      "Model reset.  646880\n",
      "24879/24880 [============================>.] - ETA: 0s - loss: 0.0424 - acc: 0.8570Epoch 00026: val_acc did not improve\n",
      "24880/24880 [==============================] - 244s - loss: 0.0424 - acc: 0.8570 - val_loss: 0.0431 - val_acc: 0.8519\n",
      "Epoch 28/50\n",
      "Model reset.  671760\n",
      "24878/24880 [============================>.] - ETA: 0s - loss: 0.0414 - acc: 0.8562Epoch 00027: val_acc did not improve\n",
      "24880/24880 [==============================] - 243s - loss: 0.0414 - acc: 0.8562 - val_loss: 0.0461 - val_acc: 0.8441\n",
      "Epoch 29/50\n",
      "Model reset.  696640\n",
      "24874/24880 [============================>.] - ETA: 0s - loss: 0.0413 - acc: 0.8577Epoch 00028: val_acc improved from 0.85530 to 0.86024, saving model to bestWeightsLSTMStateful3L50.hdf5\n",
      "24880/24880 [==============================] - 244s - loss: 0.0412 - acc: 0.8578 - val_loss: 0.0409 - val_acc: 0.8602\n",
      "Epoch 30/50\n",
      "Model reset.  721520\n",
      "24876/24880 [============================>.] - ETA: 0s - loss: 0.0390 - acc: 0.8665Epoch 00029: val_acc did not improve\n",
      "24880/24880 [==============================] - 243s - loss: 0.0390 - acc: 0.8666 - val_loss: 0.0414 - val_acc: 0.8582\n",
      "Epoch 31/50\n",
      "Model reset.  746400\n",
      "24878/24880 [============================>.] - ETA: 0s - loss: 0.0386 - acc: 0.8683Epoch 00030: val_acc did not improve\n",
      "24880/24880 [==============================] - 243s - loss: 0.0385 - acc: 0.8683 - val_loss: 0.0410 - val_acc: 0.8583\n",
      "Epoch 32/50\n",
      "Model reset.  771280\n",
      "24879/24880 [============================>.] - ETA: 0s - loss: 0.0384 - acc: 0.8675Epoch 00031: val_acc improved from 0.86024 to 0.86578, saving model to bestWeightsLSTMStateful3L50.hdf5\n",
      "24880/24880 [==============================] - 243s - loss: 0.0384 - acc: 0.8675 - val_loss: 0.0401 - val_acc: 0.8658\n",
      "Epoch 33/50\n",
      "Model reset.  796160\n",
      "24874/24880 [============================>.] - ETA: 0s - loss: 0.0377 - acc: 0.8716Epoch 00032: val_acc did not improve\n",
      "24880/24880 [==============================] - 244s - loss: 0.0377 - acc: 0.8716 - val_loss: 0.0419 - val_acc: 0.8537\n",
      "Epoch 34/50\n",
      "Model reset.  821040\n",
      "24879/24880 [============================>.] - ETA: 0s - loss: 0.0384 - acc: 0.8680Epoch 00033: val_acc did not improve\n",
      "24880/24880 [==============================] - 244s - loss: 0.0384 - acc: 0.8680 - val_loss: 0.0408 - val_acc: 0.8578\n",
      "Epoch 35/50\n",
      "Model reset.  845920\n",
      "24879/24880 [============================>.] - ETA: 0s - loss: 0.0400 - acc: 0.8641Epoch 00034: val_acc did not improve\n",
      "24880/24880 [==============================] - 233s - loss: 0.0400 - acc: 0.8641 - val_loss: 0.0443 - val_acc: 0.8522\n",
      "Epoch 36/50\n",
      "Model reset.  870800\n",
      "24877/24880 [============================>.] - ETA: 0s - loss: 0.0398 - acc: 0.8647Epoch 00035: val_acc improved from 0.86578 to 0.86663, saving model to bestWeightsLSTMStateful3L50.hdf5\n",
      "24880/24880 [==============================] - 227s - loss: 0.0397 - acc: 0.8647 - val_loss: 0.0396 - val_acc: 0.8666\n",
      "Epoch 37/50\n",
      "Model reset.  895680\n",
      "24873/24880 [============================>.] - ETA: 0s - loss: 0.0376 - acc: 0.8693Epoch 00036: val_acc did not improve\n",
      "24880/24880 [==============================] - 227s - loss: 0.0376 - acc: 0.8694 - val_loss: 0.0418 - val_acc: 0.8577\n",
      "Epoch 38/50\n",
      "Model reset.  920560\n",
      "24877/24880 [============================>.] - ETA: 0s - loss: 0.0381 - acc: 0.8678Epoch 00037: val_acc did not improve\n",
      "24880/24880 [==============================] - 228s - loss: 0.0381 - acc: 0.8678 - val_loss: 0.0445 - val_acc: 0.8505\n",
      "Epoch 39/50\n",
      "Model reset.  945440\n",
      "24875/24880 [============================>.] - ETA: 0s - loss: 0.0391 - acc: 0.8658Epoch 00038: val_acc did not improve\n",
      "24880/24880 [==============================] - 228s - loss: 0.0391 - acc: 0.8658 - val_loss: 0.0422 - val_acc: 0.8537\n",
      "Epoch 40/50\n",
      "Model reset.  970320\n",
      "24876/24880 [============================>.] - ETA: 0s - loss: 0.0385 - acc: 0.8674Epoch 00039: val_acc did not improve\n",
      "24880/24880 [==============================] - 227s - loss: 0.0385 - acc: 0.8674 - val_loss: 0.0428 - val_acc: 0.8570\n",
      "Epoch 41/50\n",
      "Model reset.  995200\n",
      "24876/24880 [============================>.] - ETA: 0s - loss: 0.0408 - acc: 0.8590Epoch 00040: val_acc did not improve\n",
      "24880/24880 [==============================] - 227s - loss: 0.0408 - acc: 0.8590 - val_loss: 0.0421 - val_acc: 0.8575\n",
      "Epoch 42/50\n",
      "Model reset.  1020080\n",
      "24874/24880 [============================>.] - ETA: 0s - loss: 0.0397 - acc: 0.8633Epoch 00041: val_acc did not improve\n",
      "24880/24880 [==============================] - 227s - loss: 0.0397 - acc: 0.8633 - val_loss: 0.0457 - val_acc: 0.8440\n",
      "Epoch 43/50\n",
      "Model reset.  1044960\n",
      "24878/24880 [============================>.] - ETA: 0s - loss: 0.0412 - acc: 0.8565Epoch 00042: val_acc did not improve\n",
      "24880/24880 [==============================] - 227s - loss: 0.0412 - acc: 0.8565 - val_loss: 0.0425 - val_acc: 0.8571\n",
      "Epoch 44/50\n",
      "Model reset.  1069840\n",
      "24877/24880 [============================>.] - ETA: 0s - loss: 0.0424 - acc: 0.8532Epoch 00043: val_acc did not improve\n",
      "24880/24880 [==============================] - 227s - loss: 0.0424 - acc: 0.8532 - val_loss: 0.0474 - val_acc: 0.8377\n",
      "Epoch 45/50\n",
      "Model reset.  1094720\n",
      "24879/24880 [============================>.] - ETA: 0s - loss: 0.0416 - acc: 0.8581Epoch 00044: val_acc did not improve\n",
      "24880/24880 [==============================] - 227s - loss: 0.0416 - acc: 0.8581 - val_loss: 0.0437 - val_acc: 0.8496\n",
      "Epoch 46/50\n",
      "Model reset.  1119600\n",
      "24877/24880 [============================>.] - ETA: 0s - loss: 0.0397 - acc: 0.8643Epoch 00045: val_acc did not improve\n",
      "24880/24880 [==============================] - 227s - loss: 0.0396 - acc: 0.8643 - val_loss: 0.0450 - val_acc: 0.8434\n",
      "Epoch 47/50\n",
      "Model reset.  1144480\n",
      "24875/24880 [============================>.] - ETA: 0s - loss: 0.0411 - acc: 0.8591Epoch 00046: val_acc did not improve\n",
      "24880/24880 [==============================] - 227s - loss: 0.0410 - acc: 0.8592 - val_loss: 0.0509 - val_acc: 0.8270\n",
      "Epoch 48/50\n",
      "Model reset.  1169360\n",
      "24875/24880 [============================>.] - ETA: 0s - loss: 0.0404 - acc: 0.8611Epoch 00047: val_acc did not improve\n",
      "24880/24880 [==============================] - 227s - loss: 0.0404 - acc: 0.8611 - val_loss: 0.0424 - val_acc: 0.8589\n",
      "Epoch 49/50\n",
      "Model reset.  1194240\n",
      "24878/24880 [============================>.] - ETA: 0s - loss: 0.0414 - acc: 0.8583Epoch 00048: val_acc did not improve\n",
      "24880/24880 [==============================] - 226s - loss: 0.0414 - acc: 0.8583 - val_loss: 0.0447 - val_acc: 0.8475\n",
      "Epoch 50/50\n",
      "Model reset.  1219120\n",
      "24879/24880 [============================>.] - ETA: 0s - loss: 0.0425 - acc: 0.8547Epoch 00049: val_acc did not improve\n",
      "24880/24880 [==============================] - 226s - loss: 0.0425 - acc: 0.8547 - val_loss: 0.0469 - val_acc: 0.8414\n",
      "\n",
      "\n",
      "--- Time for training : 11999.730452537537 seconds ---\n"
     ]
    }
   ],
   "source": [
    "#Time to train\n",
    "\n",
    "Batch_size=1\n",
    "start_time = time.time()\n",
    "\n",
    "x_train,y_train = processTrainTestArrays(X_train,Y_train)\n",
    "x_val,y_val = processTrainTestArrays(X_val,Y_val)\n",
    "model = create_model(x_train,y_train, 50)\n",
    "\n",
    "x = np.expand_dims(np.expand_dims(x_train.flatten(), axis=1), axis=1)\n",
    "\n",
    "x_val = np.expand_dims(np.expand_dims(x_val.flatten(), axis=1), axis=1)\n",
    "model.fit(x, y_train, epochs=50, batch_size=Batch_size, verbose=1, shuffle=False,\n",
    "            validation_data = (x_val,y_val),callbacks=[checkpoint,ResetStatesCallback()])\n",
    "\n",
    "\n",
    "print(\"\\n\\n--- Time for training : %s seconds ---\" % (time.time() - start_time))\n",
    "\n"
   ]
  },
  {
   "cell_type": "code",
   "execution_count": 21,
   "metadata": {
    "scrolled": false
   },
   "outputs": [
    {
     "name": "stdout",
     "output_type": "stream",
     "text": [
      "\n",
      "===========================\n",
      "Time for testing\n",
      "===========================\n",
      "\n",
      "Optimal weights loaded from file bestWeightsLSTMStateful3L50.hdf5\n",
      "Model Successfully compiled with loaded weights\n",
      "\n",
      "8300/8300 [==============================] - 21s    \n",
      "Loss for testing = 0.03811505821068982 and Accuracy for testing = 0.8734939759036144\n"
     ]
    },
    {
     "name": "stderr",
     "output_type": "stream",
     "text": [
      "/home/bwang/.local/lib/python3.5/site-packages/sklearn/metrics/classification.py:1135: UndefinedMetricWarning: F-score is ill-defined and being set to 0.0 in labels with no predicted samples.\n",
      "  'precision', 'predicted', average, warn_for)\n"
     ]
    },
    {
     "name": "stdout",
     "output_type": "stream",
     "text": [
      "Average F1 score is 0.646220986703234\n",
      "Confusion matrix: \n",
      " Predicted    0    1    2   3\n",
      "Actual                      \n",
      "0          191    9    0   0\n",
      "1            2  195    2   1\n",
      "2            4   93  103   0\n",
      "3            0    9  152  65\n",
      "4            0    2    2   0\n",
      "n_classes is:  5\n"
     ]
    },
    {
     "data": {
      "image/png": "[encoded data removed]",
      "text/plain": [
       "<matplotlib.figure.Figure at 0x7f895d2b4940>"
      ]
     },
     "metadata": {},
     "output_type": "display_data"
    }
   ],
   "source": [
    "#Test with best model\n",
    "#Load weights and compile again\n",
    "print(\"\\n===========================\\nTime for testing\\n===========================\\n\")\n",
    "model.load_weights(hdf5FileName)\n",
    "nadam = optimizers.Nadam(lr=0.002, beta_1=0.9, beta_2=0.999, epsilon=1e-08, schedule_decay=0.004)\n",
    "model.compile(loss='mean_squared_error', optimizer=nadam, metrics=['accuracy'])\n",
    "print(\"Optimal weights loaded from file {}\".format(hdf5FileName))\n",
    "print(\"Model Successfully compiled with loaded weights\\n\")\n",
    "\n",
    "#Do same preprocessing for test data\n",
    "x_test,y_test = processTrainTestArrays(X_test,Y_test)\n",
    "x_test = np.expand_dims(np.expand_dims(x_test.flatten(), axis=1), axis=1)\n",
    "\n",
    "loss,acc = model.evaluate(x_test,y_test,batch_size=Batch_size)\n",
    "print(\"Loss for testing = {} and Accuracy for testing = {}\".format(loss,acc))\n",
    "\n",
    "predicted = model.predict(x_test,batch_size=Batch_size)\n",
    "\n",
    "X_test = np.asarray(X_test)\n",
    "temp = np.reshape(predicted,(Y_test.shape[0],X_test.shape[1],Y_test.shape[1]))\n",
    "temp1 = [np.argmax(item1) for item in temp for item1 in item]\n",
    "temp1 = np.reshape(np.asarray(temp1),(Y_test.shape[0],X_test.shape[1],1))\n",
    "temp1 = [np.floor(np.mean(item)) for item in temp1]\n",
    "temp1 = onehotencode(temp1)\n",
    "\n",
    "\n",
    "compute_metrics(temp1, Y_test)    \n"
   ]
  }
 ],
 "metadata": {
  "kernelspec": {
   "display_name": "Python 3",
   "language": "python",
   "name": "python3"
  },
  "language_info": {
   "codemirror_mode": {
    "name": "ipython",
    "version": 3
   },
   "file_extension": ".py",
   "mimetype": "text/x-python",
   "name": "python",
   "nbconvert_exporter": "python",
   "pygments_lexer": "ipython3",
   "version": "3.7.3"
  }
 },
 "nbformat": 4,
 "nbformat_minor": 2
}
